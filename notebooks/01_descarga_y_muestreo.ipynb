{
 "cells": [
  {
   "cell_type": "markdown",
   "id": "c9727f2a",
   "metadata": {},
   "source": [
    "# Preparación de Datos - Dataset mHealt\n",
    "\n",
    "[![Open In Colab](https://colab.research.google.com/assets/colab-badge.svg)](https://colab.research.google.com/github/Jvviers/analisis_datosSalud/blob/main/notebooks/01_descarga_y_muestreo.ipynb)\n",
    "\n",
    "\n",
    "\n",
    "## Objetivo\n",
    "Este notebook prepara los datos del dataset mHealth para el análisis posterior.\n",
    "\n",
    "---\n",
    "\n",
    "## 1. Configuración del entorno"
   ]
  },
  {
   "cell_type": "code",
   "execution_count": 1,
   "id": "79c9351b",
   "metadata": {},
   "outputs": [
    {
     "name": "stdout",
     "output_type": "stream",
     "text": [
      "Librerías importadas correctamente\n"
     ]
    }
   ],
   "source": [
    "\n",
    "\n",
    "\n",
    "import pandas as pd\n",
    "import numpy as np\n",
    "import urllib.request\n",
    "import zipfile\n",
    "import os\n",
    "import matplotlib.pyplot as plt\n",
    "\n",
    "print(\"Librerías importadas correctamente\")"
   ]
  },
  {
   "cell_type": "markdown",
   "id": "30376b58",
   "metadata": {},
   "source": [
    "## 2. Crear estructura de directorios"
   ]
  },
  {
   "cell_type": "code",
   "execution_count": 2,
   "id": "14388928",
   "metadata": {},
   "outputs": [
    {
     "name": "stdout",
     "output_type": "stream",
     "text": [
      "📁 Directorio ya existe: data/raw\n",
      "📁 Directorio ya existe: data/processed\n",
      "📁 Directorio ya existe: images/final\n",
      "📁 Directorio ya existe: images/exploratory\n"
     ]
    }
   ],
   "source": [
    "# Crear directorios necesarios\n",
    "directorios = ['data/raw', 'data/processed', 'images/final', 'images/exploratory']\n",
    "\n",
    "for directorio in directorios:\n",
    "    if not os.path.exists(directorio):\n",
    "        os.makedirs(directorio)\n",
    "        print(f\" Directorio creado: {directorio}\")\n",
    "    else:\n",
    "        print(f\"📁 Directorio ya existe: {directorio}\")"
   ]
  },
  {
   "cell_type": "markdown",
   "id": "6b5c37eb",
   "metadata": {},
   "source": [
    "## 3. Descargar dataset mHealth\n",
    "\n",
    "### 📥 Descarga automática desde UCI Repository"
   ]
  },
  {
   "cell_type": "code",
   "execution_count": 3,
   "id": "74ce631a",
   "metadata": {},
   "outputs": [
    {
     "name": "stdout",
     "output_type": "stream",
     "text": [
      "Dataset ya existe localmente\n"
     ]
    }
   ],
   "source": [
    "def descargar_mhealth():\n",
    "    \"\"\"\n",
    "    Descarga el dataset mHealth desde UCI Repository\n",
    "    \"\"\"\n",
    "    url = \"https://archive.ics.uci.edu/static/public/319/mhealth+dataset.zip\"\n",
    "    \n",
    "    # Verificar si ya existe\n",
    "    if os.path.exists('data/raw/mhealth_complete.txt'):\n",
    "        print(\"Dataset ya existe localmente\")\n",
    "        return True\n",
    "    \n",
    "    try:\n",
    "        print(\" Descargando dataset mHealth...\")\n",
    "        print(\" Esto puede tomar unos minutos...\")\n",
    "        \n",
    "        # Descargar\n",
    "        urllib.request.urlretrieve(url, 'data/raw/mhealth_dataset.zip')\n",
    "        print(\"Descarga completada\")\n",
    "        \n",
    "        # Extraer\n",
    "        print(\"Extrayendo archivos...\")\n",
    "        with zipfile.ZipFile('data/raw/mhealth_dataset.zip', 'r') as zip_ref:\n",
    "            # Buscar archivo principal\n",
    "            archivos = zip_ref.namelist()\n",
    "            archivo_principal = None\n",
    "            \n",
    "            # Buscar el archivo más grande (probablemente los datos)\n",
    "            for archivo in archivos:\n",
    "                if archivo.endswith('.log') or 'subject' in archivo.lower() or archivo.endswith('.txt'):\n",
    "                    zip_ref.extract(archivo, 'data/raw/')\n",
    "                    old_path = os.path.join('data/raw/', archivo)\n",
    "                    new_path = 'data/raw/mhealth_complete.txt'\n",
    "                    if os.path.exists(old_path):\n",
    "                        os.rename(old_path, new_path)\n",
    "                        archivo_principal = archivo\n",
    "                        break\n",
    "            \n",
    "            if not archivo_principal:\n",
    "                # Si no encuentra archivo específico, extraer todo\n",
    "                zip_ref.extractall('data/raw/')\n",
    "                print(\"Todos los archivos extraídos - revisar data/raw/\")\n",
    "\n",
    "        print(\"Dataset extraído exitosamente\")\n",
    "\n",
    "        # Limpiar archivo zip\n",
    "        os.remove('data/raw/mhealth_dataset.zip')\n",
    "        return True\n",
    "        \n",
    "    except Exception as e:\n",
    "        print(f\"Error al descargar: {e}\")\n",
    "        print(\"Solución: Descarga manual desde:\")\n",
    "        print(\"   https://archive.ics.uci.edu/static/public/319/mhealth+dataset.zip\")\n",
    "        return False\n",
    "\n",
    "# Ejecutar descarga\n",
    "exito = descargar_mhealth()"
   ]
  },
  {
   "cell_type": "markdown",
   "id": "20eb607b",
   "metadata": {},
   "source": [
    "###  **Nota importante**\n",
    "Si la descarga automática no funciona, puedes descargar manualmente:\n",
    "1. Ve a: https://archive.ics.uci.edu/static/public/319/mhealth+dataset.zip\n",
    "2. Extrae en la carpeta `data/raw/`\n",
    "3. Renombra el archivo principal a `mhealth_complete.txt`\n",
    "\n",
    "## 4. Verificar datos descargados"
   ]
  },
  {
   "cell_type": "code",
   "execution_count": 4,
   "id": "8ad96893",
   "metadata": {},
   "outputs": [
    {
     "name": "stdout",
     "output_type": "stream",
     "text": [
      "Archivos en data/raw/:\n",
      " mhealth_complete.txt: 30,019,680 bytes (28.6 MB)\n",
      " sample_mhealth.csv: 2,857,713 bytes (2.7 MB)\n"
     ]
    }
   ],
   "source": [
    "# Verificar archivos en data/raw/\n",
    "print(\"Archivos en data/raw/:\")\n",
    "if os.path.exists('data/raw/'):\n",
    "    archivos = os.listdir('data/raw/')\n",
    "    for archivo in archivos:\n",
    "        ruta = os.path.join('data/raw/', archivo)\n",
    "        if os.path.isfile(ruta):\n",
    "            size = os.path.getsize(ruta)\n",
    "            print(f\" {archivo}: {size:,} bytes ({size/(1024*1024):.1f} MB)\")"
   ]
  },
  {
   "cell_type": "code",
   "execution_count": 5,
   "id": "fbbfde02",
   "metadata": {},
   "outputs": [
    {
     "name": "stdout",
     "output_type": "stream",
     "text": [
      " Archivo principal: 30,019,680 bytes (28.6 MB)\n",
      "\n",
      "📋 Primeras líneas del dataset:\n",
      "Línea 1: -9.8184\t0.009971\t0.29563\t0.0041863\t0.0041863\t2.1849\t-9.6967\t0.63077\t0.1039\t-0.84...\n",
      "Línea 2: -9.8489\t0.52404\t0.37348\t0.0041863\t0.016745\t2.3876\t-9.508\t0.68389\t0.085343\t-0.838...\n",
      "Línea 3: -9.6602\t0.18185\t0.43742\t0.016745\t0.037677\t2.4086\t-9.5674\t0.68113\t0.085343\t-0.838...\n"
     ]
    }
   ],
   "source": [
    "# Verificar el archivo principal\n",
    "archivo_principal = None\n",
    "\n",
    "# Buscar el archivo de datos más grande\n",
    "if os.path.exists('data/raw/'):\n",
    "    archivos = [f for f in os.listdir('data/raw/') if os.path.isfile(os.path.join('data/raw/', f))]\n",
    "    if archivos:\n",
    "        # Encontrar el archivo más grande (probablemente los datos)\n",
    "        archivo_mas_grande = max(archivos, key=lambda f: os.path.getsize(os.path.join('data/raw/', f)))\n",
    "        ruta_completa = os.path.join('data/raw/', archivo_mas_grande)\n",
    "        \n",
    "        # Si no existe mhealth_complete.txt, renombrar el más grande\n",
    "        if not os.path.exists('data/raw/mhealth_complete.txt') and archivo_mas_grande != 'mhealth_complete.txt':\n",
    "            os.rename(ruta_completa, 'data/raw/mhealth_complete.txt')\n",
    "            print(f\" Renombrado: {archivo_mas_grande} → mhealth_complete.txt\")\n",
    "\n",
    "# Verificar archivo final\n",
    "if os.path.exists('data/raw/mhealth_complete.txt'):\n",
    "    size = os.path.getsize('data/raw/mhealth_complete.txt')\n",
    "    print(f\" Archivo principal: {size:,} bytes ({size/(1024*1024):.1f} MB)\")\n",
    "    \n",
    "    # Leer primeras líneas\n",
    "    with open('data/raw/mhealth_complete.txt', 'r') as f:\n",
    "        primeras_lineas = [f.readline().strip() for _ in range(3)]\n",
    "    \n",
    "    print(\"\\n📋 Primeras líneas del dataset:\")\n",
    "    for i, linea in enumerate(primeras_lineas, 1):\n",
    "        print(f\"Línea {i}: {linea[:80]}...\")\n",
    "else:\n",
    "    print(\" Error: Archivo principal no encontrado\")"
   ]
  },
  {
   "cell_type": "markdown",
   "id": "00f47857",
   "metadata": {},
   "source": [
    "## 5. Crear muestra para desarrollo\n",
    "\n",
    "Para facilitar el desarrollo y testing, crearemos una muestra más pequeña del dataset."
   ]
  },
  {
   "cell_type": "code",
   "execution_count": 6,
   "id": "67656bcb",
   "metadata": {},
   "outputs": [
    {
     "name": "stdout",
     "output_type": "stream",
     "text": [
      " Creando muestra de 15,000 filas...\n",
      " Dimensiones de la muestra: (15000, 24)\n",
      " Actividades encontradas: [np.int64(0), np.int64(1), np.int64(2)]\n",
      " Muestra guardada en: data/raw/sample_mhealth.csv\n"
     ]
    }
   ],
   "source": [
    "def crear_muestra(input_file, output_file, n_filas=10000):\n",
    "    \"\"\"\n",
    "    Crea una muestra del dataset para desarrollo rápido\n",
    "    \"\"\"\n",
    "    try:\n",
    "        print(f\" Creando muestra de {n_filas:,} filas...\")\n",
    "        \n",
    "        # Definir nombres de columnas según documentación mHealth\n",
    "        columnas = [\n",
    "            'accel_chest_x', 'accel_chest_y', 'accel_chest_z',      # Acelerómetro pecho\n",
    "            'ecg_1', 'ecg_2',                                        # ECG\n",
    "            'accel_ankle_x', 'accel_ankle_y', 'accel_ankle_z',       # Acelerómetro tobillo\n",
    "            'gyro_ankle_x', 'gyro_ankle_y', 'gyro_ankle_z',          # Giroscopio tobillo\n",
    "            'magnet_ankle_x', 'magnet_ankle_y', 'magnet_ankle_z',    # Magnetómetro tobillo\n",
    "            'accel_arm_x', 'accel_arm_y', 'accel_arm_z',             # Acelerómetro brazo\n",
    "            'gyro_arm_x', 'gyro_arm_y', 'gyro_arm_z',                # Giroscopio brazo\n",
    "            'magnet_arm_x', 'magnet_arm_y', 'magnet_arm_z',          # Magnetómetro brazo\n",
    "            'actividad'                                               # Actividad (0-12)\n",
    "        ]\n",
    "        \n",
    "        # Leer muestra del dataset\n",
    "        df_muestra = pd.read_csv(input_file, sep='\\t', names=columnas, nrows=n_filas)\n",
    "        \n",
    "        # Información básica\n",
    "        print(f\" Dimensiones de la muestra: {df_muestra.shape}\")\n",
    "        print(f\" Actividades encontradas: {sorted(df_muestra['actividad'].unique())}\")\n",
    "        \n",
    "        # Guardar muestra\n",
    "        df_muestra.to_csv(output_file, index=False)\n",
    "        \n",
    "        print(f\" Muestra guardada en: {output_file}\")\n",
    "        return True\n",
    "        \n",
    "    except Exception as e:\n",
    "        print(f\" Error creando muestra: {e}\")\n",
    "        return False\n",
    "\n",
    "# Crear muestra para desarrollo\n",
    "if os.path.exists('data/raw/mhealth_complete.txt'):\n",
    "    exito_muestra = crear_muestra('data/raw/mhealth_complete.txt', 'data/raw/sample_mhealth.csv', 15000)\n",
    "else:\n",
    "    print(\" No se puede crear muestra: archivo principal no encontrado\")"
   ]
  },
  {
   "cell_type": "markdown",
   "id": "c4e0909f",
   "metadata": {},
   "source": [
    "##  Resumen y próximos pasos\n",
    "\n",
    "###  Tareas completadas:\n",
    "1. Descarga del dataset mHealth\n",
    "2. Verificación de la integridad de los datos  \n",
    "3. Creación de muestra para desarrollo\n",
    "4. Preparación de estructura de directorios\n",
    "\n",
    "###  Próximo paso:\n",
    "Ejecutar `02_analisis_exploratorio.ipynb` para realizar el análisis detallado."
   ]
  },
  {
   "cell_type": "code",
   "execution_count": 7,
   "id": "4e2d129b",
   "metadata": {},
   "outputs": [
    {
     "name": "stdout",
     "output_type": "stream",
     "text": [
      "============================================================\n",
      " RESUMEN DE PREPARACIÓN DE DATOS\n",
      "============================================================\n",
      " Dataset completo: 30,019,680 bytes (28.6 MB)\n",
      " Muestra para desarrollo: 2,857,713 bytes (2.7 MB)\n",
      "\n",
      " ¡Preparación completada exitosamente!\n",
      " Listo para ejecutar: 02_analisis_exploratorio.ipynb\n",
      "============================================================\n"
     ]
    }
   ],
   "source": [
    "print(\"=\" * 60)\n",
    "print(\" RESUMEN DE PREPARACIÓN DE DATOS\")\n",
    "print(\"=\" * 60)\n",
    "\n",
    "# Verificar archivos finales\n",
    "archivos_verificar = [\n",
    "    ('data/raw/mhealth_complete.txt', 'Dataset completo'),\n",
    "    ('data/raw/sample_mhealth.csv', 'Muestra para desarrollo'),\n",
    "]\n",
    "\n",
    "todos_listos = True\n",
    "\n",
    "for archivo, descripcion in archivos_verificar:\n",
    "    if os.path.exists(archivo):\n",
    "        size = os.path.getsize(archivo)\n",
    "        print(f\" {descripcion}: {size:,} bytes ({size/(1024*1024):.1f} MB)\")\n",
    "    else:\n",
    "        print(f\" {descripcion}: NO ENCONTRADO\")\n",
    "        todos_listos = False\n",
    "\n",
    "if todos_listos:\n",
    "    print(f\"\\n ¡Preparación completada exitosamente!\")\n",
    "    print(f\" Listo para ejecutar: 02_analisis_exploratorio.ipynb\")\n",
    "else:\n",
    "    print(f\"\\n  Algunos archivos faltan. Revisar pasos anteriores.\")\n",
    "\n",
    "print(\"=\" * 60)"
   ]
  }
 ],
 "metadata": {
  "kernelspec": {
   "display_name": "Python 3",
   "language": "python",
   "name": "python3"
  },
  "language_info": {
   "codemirror_mode": {
    "name": "ipython",
    "version": 3
   },
   "file_extension": ".py",
   "mimetype": "text/x-python",
   "name": "python",
   "nbconvert_exporter": "python",
   "pygments_lexer": "ipython3",
   "version": "3.13.7"
  }
 },
 "nbformat": 4,
 "nbformat_minor": 5
}
